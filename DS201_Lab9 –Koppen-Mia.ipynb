{
 "cells": [
  {
   "cell_type": "code",
   "execution_count": null,
   "metadata": {},
   "outputs": [],
   "source": [
    "import pandas as pd\n",
    "from sklearn.datasets import load_iris\n",
    "import seaborn as sns\n",
    "import warnings\n",
    "import matplotlib.pyplot as plt\n",
    "from sklearn.model_selection import train_test_split\n",
    "\n",
    "#machine learning imports.\n",
    "from sklearn.neighbors import KNeighborsClassifier\n",
    "from sklearn.linear_model import LogisticRegression\n",
    "\n",
    "#evaluating function for ML.\n",
    "from sklearn.metrics import accuracy_score\n"
   ]
  },
  {
   "cell_type": "code",
   "execution_count": null,
   "metadata": {},
   "outputs": [],
   "source": [
    "iris_data = pd.read_csv('Iris.csv') #reading the data file.\n",
    "iris_data.head() #shows values in the file.\n",
    "iris_data.info() #showcases information about the file."
   ]
  },
  {
   "cell_type": "code",
   "execution_count": null,
   "metadata": {},
   "outputs": [],
   "source": [
    "iris_data.drop_duplicates() #deletes duplicate rows and columns."
   ]
  },
  {
   "cell_type": "code",
   "execution_count": null,
   "metadata": {},
   "outputs": [],
   "source": [
    "iris_data.isna().sum() #of null values."
   ]
  },
  {
   "cell_type": "code",
   "execution_count": null,
   "metadata": {},
   "outputs": [],
   "source": [
    "iris_data['Species'].unique() #unique species.\n",
    "iris_data['Species'].nunique() #of unique species.\n"
   ]
  },
  {
   "cell_type": "code",
   "execution_count": null,
   "metadata": {},
   "outputs": [],
   "source": [
    "flowers = load_iris()\n",
    "type(flowers) #shows the type of flowers variable."
   ]
  },
  {
   "cell_type": "code",
   "execution_count": null,
   "metadata": {},
   "outputs": [],
   "source": [
    "flowers_df = pd.DataFrame(flowers.data, columns = flowers.feature_names) #convert flowers to pandas dataframe.\n",
    "flowers_df.head() #shows the data in the flowers variable."
   ]
  },
  {
   "cell_type": "code",
   "execution_count": null,
   "metadata": {},
   "outputs": [],
   "source": [
    "flowers.target_names\n",
    "flowers_df['Species'] = flowers.target"
   ]
  },
  {
   "cell_type": "code",
   "execution_count": null,
   "metadata": {},
   "outputs": [],
   "source": [
    "flowers_df.head()"
   ]
  },
  {
   "cell_type": "code",
   "execution_count": null,
   "metadata": {},
   "outputs": [],
   "source": [
    "warnings.filterwarnings(\"ignore\")\n",
    "warnings.filterwarnings(\"ignore\", category=FutureWarning) #to get rid of the annoying warnings.\n",
    "\n",
    "sns.pairplot(flowers_df, hue='Species', diag_kind='hist', palette='rocket') #created a pairplot using seaborn, with Species column set as the hue."
   ]
  },
  {
   "cell_type": "code",
   "execution_count": null,
   "metadata": {},
   "outputs": [],
   "source": [
    "#train_test_split(flowers_df) #30(data) to 70 ( for training) split\n",
    "\n",
    "features = flowers_df[['sepal length (cm)', 'sepal width (cm)', 'petal length (cm)','petal width (cm)', 'Species']]\n",
    "target_column = flowers_df['Species'] #the target column/s is species.\n",
    "target_column.head()"
   ]
  },
  {
   "cell_type": "code",
   "execution_count": null,
   "metadata": {},
   "outputs": [],
   "source": [
    "train_features, test_features, train_target, test_target = train_test_split(features, target_column, test_size=0.3, random_state=42) #30(data) to 70 ( for training) split\n",
    "\n",
    "#70% of 150 =105 rows, 30% = 45 rows."
   ]
  },
  {
   "cell_type": "code",
   "execution_count": null,
   "metadata": {},
   "outputs": [],
   "source": [
    "train_target.shape #shows we have 105 rows for the training of the machine."
   ]
  },
  {
   "cell_type": "code",
   "execution_count": null,
   "metadata": {},
   "outputs": [],
   "source": [
    "test_target.shape #shows the amount of rows for the testing."
   ]
  },
  {
   "cell_type": "code",
   "execution_count": null,
   "metadata": {},
   "outputs": [],
   "source": [
    "knn_1 = KNeighborsClassifier(n_neighbors=1) #creates a kneighbors classifier.\n",
    "knn_1.fit(train_features,train_target) #training the kneighbors classifier using the target data."
   ]
  },
  {
   "cell_type": "code",
   "execution_count": null,
   "metadata": {},
   "outputs": [],
   "source": [
    "pred1 = knn_1.predict(test_features) #making a prediction based on the data given to the model.\n",
    "print(pred1)\n",
    "print(\" \")\n",
    "acc_1 = accuracy_score(test_target, pred1)#calculating the accuracy of the prediction.\n",
    "print(f\"The accuracy of the prediction was {acc_1*100}\") #prints out 1.0, meaning the model is 100% accurate."
   ]
  },
  {
   "cell_type": "code",
   "execution_count": null,
   "metadata": {},
   "outputs": [],
   "source": [
    "knn_3 = KNeighborsClassifier(n_neighbors=3) #creates a kneighbors classifier with three neighbors.\n",
    "knn_3.fit(train_features, train_target) #training the kneighbors classifier using the target data."
   ]
  },
  {
   "cell_type": "code",
   "execution_count": null,
   "metadata": {},
   "outputs": [],
   "source": [
    "pred2 = knn_3.predict(test_features)\n",
    "print(pred2)\n",
    "\n",
    "acc_2 = accuracy_score(test_target, pred2) #calculating the accuracy of the prediction.\n",
    "print(f\"The accuracy of the prediction was {acc_2*100}\") #prints out 1.0, meaning the model is 100% accurate.\n"
   ]
  },
  {
   "cell_type": "code",
   "execution_count": null,
   "metadata": {},
   "outputs": [],
   "source": [
    "log_model = LogisticRegression()\n",
    "log_model.fit(train_features, train_target)"
   ]
  },
  {
   "cell_type": "code",
   "execution_count": null,
   "metadata": {},
   "outputs": [],
   "source": [
    "log_pred1 = log_model.predict(test_features)\n",
    "print(log_pred1)\n",
    "\n",
    "log_acc1 = accuracy_score(test_target, log_pred1)\n",
    "print(f\"The accuracy of the model is {log_acc1*100}\")"
   ]
  },
  {
   "cell_type": "code",
   "execution_count": null,
   "metadata": {},
   "outputs": [],
   "source": [
    "\n",
    "input_1 = [[4,2,4,0.2, 3]]\n",
    "input_2 = [[5,0.4,2,0.5, 10]]\n",
    "\n",
    "knn_pred_1 = knn_1.predict(input_1)\n",
    "log_pred_1 = log_model.predict(input_1)\n",
    "\n",
    "knn_pred_2 = knn_1.predict(input_2)\n",
    "log_pred_2 = log_model.predict(input_2)\n",
    "\n",
    "print(f\"Flower 1:\\n KNN: {knn_pred_1}, Log: {log_pred_1}\")\n",
    "print(f\"Flower 2:\\n KNN: {knn_pred_2}, Log: {log_pred_2}\")"
   ]
  },
  {
   "cell_type": "code",
   "execution_count": null,
   "metadata": {},
   "outputs": [],
   "source": [
    "n_v = range(1,12)\n",
    "accuracies = []\n",
    "\n",
    "for n in n_v: #for numbers in range...\n",
    "\n",
    "    knn = KNeighborsClassifier(n_neighbors=n) #creates a kneighbors classifier with n neighbors.\n",
    "\n",
    "    knn.fit(train_features, train_target) #training the kneighbors classifier using the target data.\n",
    "\n",
    "    accuracy_ = (knn.score(test_features, test_target)) * 100 #multiplying the percent by 100.\n",
    "\n",
    "    accuracies.append(accuracy_) #appending the accuracies.\n",
    "\n",
    "    print(f\"The accuracy of n is: {accuracies}\") #printing accuracy to the screen.\n"
   ]
  },
  {
   "cell_type": "code",
   "execution_count": null,
   "metadata": {},
   "outputs": [],
   "source": [
    "plt.figure(figsize= (6,4))\n",
    "sns.lineplot(x=n_v, y=accuracies)\n",
    "plt.show()"
   ]
  }
 ],
 "metadata": {
  "kernelspec": {
   "display_name": "base",
   "language": "python",
   "name": "python3"
  },
  "language_info": {
   "codemirror_mode": {
    "name": "ipython",
    "version": 3
   },
   "file_extension": ".py",
   "mimetype": "text/x-python",
   "name": "python",
   "nbconvert_exporter": "python",
   "pygments_lexer": "ipython3",
   "version": "3.11.7"
  }
 },
 "nbformat": 4,
 "nbformat_minor": 2
}
